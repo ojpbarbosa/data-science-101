{
 "cells": [
  {
   "cell_type": "code",
   "execution_count": null,
   "metadata": {},
   "outputs": [],
   "source": [
    "import pandas as pd\n",
    "\n",
    "\n",
    "houses_df = pd.read_csv('data/sfhousing.csv', on_bad_lines='skip')\n",
    "houses_df.head()"
   ]
  },
  {
   "cell_type": "code",
   "execution_count": null,
   "metadata": {},
   "outputs": [],
   "source": [
    "import numpy as np\n",
    "\n",
    "percentiles = [0, 25, 50, 75, 100]\n",
    "prices = np.percentile(houses_df['price'], percentiles, method='lower')\n",
    "pd.DataFrame({ 'price': prices }, index=percentiles)"
   ]
  },
  {
   "cell_type": "code",
   "execution_count": null,
   "metadata": {},
   "outputs": [],
   "source": [
    "percentiles = [95, 97, 98, 99, 99.9]\n",
    "prices = np.percentile(houses_df['price'], percentiles, method='lower')\n",
    "pd.DataFrame({ 'price': prices }, index=percentiles)"
   ]
  },
  {
   "cell_type": "code",
   "execution_count": null,
   "metadata": {},
   "outputs": [],
   "source": [
    "houses_df = houses_df[houses_df['price'] < 4e6]\n",
    "houses_df.tail()"
   ]
  },
  {
   "cell_type": "code",
   "execution_count": null,
   "metadata": {},
   "outputs": [],
   "source": [
    "import plotly.express as px\n",
    "\n",
    "\n",
    "px.histogram(houses_df, x='price', nbins=50, labels={'price': 'Price ($)'})"
   ]
  },
  {
   "cell_type": "code",
   "execution_count": null,
   "metadata": {},
   "outputs": [],
   "source": [
    "br_cat = houses_df['br'].value_counts().reset_index()\n",
    "\n",
    "px.bar(br_cat, x='br', y='count', labels={'br': 'Bedrooms'})\n",
    "\n",
    "eight_or_more = houses_df.loc[houses_df['br'] >= 8, 'br'].unique()\n",
    "houses_df['new_br'] = houses_df['br'].replace(eight_or_more, 8)\n",
    "houses_df"
   ]
  }
 ],
 "metadata": {
  "language_info": {
   "name": "python"
  },
  "orig_nbformat": 4
 },
 "nbformat": 4,
 "nbformat_minor": 2
}
